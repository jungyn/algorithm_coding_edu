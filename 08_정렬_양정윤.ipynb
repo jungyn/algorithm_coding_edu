{
 "cells": [
  {
   "cell_type": "code",
   "execution_count": 1,
   "metadata": {
    "ExecuteTime": {
     "end_time": "2019-09-10T04:00:05.497613Z",
     "start_time": "2019-09-10T04:00:05.491632Z"
    }
   },
   "outputs": [
    {
     "data": {
      "text/html": [
       "<style>.container { width:95% !important; }</style>"
      ],
      "text/plain": [
       "<IPython.core.display.HTML object>"
      ]
     },
     "metadata": {},
     "output_type": "display_data"
    },
    {
     "data": {
      "text/html": [
       "<style>.input_area pre {font-family: Consolas; font-size: 15pt; line-height: 140%; font-weight: bold}</style>"
      ],
      "text/plain": [
       "<IPython.core.display.HTML object>"
      ]
     },
     "metadata": {},
     "output_type": "display_data"
    },
    {
     "data": {
      "text/html": [
       "<style>.output_area pre {font-family: Consolas; font-size: 15pt; line-height: 140%;}</style>"
      ],
      "text/plain": [
       "<IPython.core.display.HTML object>"
      ]
     },
     "metadata": {},
     "output_type": "display_data"
    }
   ],
   "source": [
    "from IPython.core.display import display, HTML\n",
    "display(HTML(\"<style>.container { width:95% !important; }</style>\"))\n",
    "display(HTML(\"<style>.input_area pre {font-family: Consolas; font-size: 15pt; line-height: 140%; font-weight: bold}</style>\"))\n",
    "display(HTML(\"<style>.output_area pre {font-family: Consolas; font-size: 15pt; line-height: 140%;}</style>\"))"
   ]
  },
  {
   "cell_type": "markdown",
   "metadata": {},
   "source": [
    "# 제출 방법\n",
    "\n",
    "1. 파일 이름에서 '이름'을 자신의 이름으로 고쳐서 제출하시오.\n",
    "2. 제출 후 파일을 삭제하시오."
   ]
  },
  {
   "cell_type": "markdown",
   "metadata": {},
   "source": [
    "## 문제1\n",
    "\n",
    "파이썬 장점을 살린 퀵 정렬 함수를 작성하시오.\n",
    "\n",
    "***결과***\n",
    "```\n",
    "[0, 1, 2, 3, 4, 5, 6, 7, 8, 9]\n",
    "```\n"
   ]
  },
  {
   "cell_type": "code",
   "execution_count": 8,
   "metadata": {
    "ExecuteTime": {
     "end_time": "2022-05-16T04:35:28.183094Z",
     "start_time": "2022-05-16T04:35:28.167137Z"
    }
   },
   "outputs": [
    {
     "name": "stdout",
     "output_type": "stream",
     "text": [
      "[0, 1, 2, 3, 4, 5, 6, 7, 8, 9]\n"
     ]
    }
   ],
   "source": [
    "def quick_sort(array):\n",
    "    if len(array) <= 1:\n",
    "        return array\n",
    "    \n",
    "    pivot = array[0]\n",
    "    tail = array[1:]\n",
    "    \n",
    "    left_side = [x for x in tail if x <= pivot]\n",
    "    right_side = [x for x in tail if x > pivot]\n",
    "    \n",
    "    return quick_sort(left_side) + [pivot] + quick_sort(right_side)\n",
    "\n",
    "# 아래는 수정하지 마시오.\n",
    "array = [5, 7, 9, 0, 3, 1, 6, 2, 4, 8]\n",
    "print(quick_sort(array))\n"
   ]
  },
  {
   "cell_type": "markdown",
   "metadata": {},
   "source": [
    "## 문제2\n",
    "\n",
    "radix_sort() 함수를 수정하여 아래와 같은 결과가 나오도록 하시오.\n",
    "\n",
    "***결과***\n",
    "```\n",
    "sort at 1-digit number\n",
    "210\n",
    "401\n",
    "251\n",
    "472\n",
    "882\n",
    "902\n",
    "123\n",
    "113\n",
    "943\n",
    "124\n",
    "784\n",
    "296\n",
    "\n",
    "sort at 10-digit number\n",
    "401\n",
    "902\n",
    "210\n",
    "113\n",
    "123\n",
    "124\n",
    "943\n",
    "251\n",
    "472\n",
    "882\n",
    "784\n",
    "296\n",
    "\n",
    "sort at 100-digit number\n",
    "113\n",
    "123\n",
    "124\n",
    "210\n",
    "251\n",
    "296\n",
    "401\n",
    "472\n",
    "784\n",
    "882\n",
    "902\n",
    "943\n",
    "\n",
    "[113, 123, 124, 210, 251, 296, 401, 472, 784, 882, 902, 943]\n",
    "```\n"
   ]
  },
  {
   "cell_type": "code",
   "execution_count": 6,
   "metadata": {
    "ExecuteTime": {
     "end_time": "2022-05-16T04:41:05.741585Z",
     "start_time": "2022-05-16T04:41:05.730596Z"
    },
    "scrolled": true
   },
   "outputs": [
    {
     "data": {
      "text/plain": [
       "[113, 123, 124, 210, 251, 296, 401, 472, 784, 882, 902, 943]"
      ]
     },
     "execution_count": 6,
     "metadata": {},
     "output_type": "execute_result"
    }
   ],
   "source": [
    "def counting_sort_by_digit(array, digit): # 예, digit == 2 -> 10의 자리를 기준으로 정렬\n",
    "    base = 10 # 10진법\n",
    "\n",
    "    def get_digit_number(num, digit): # 특정 자리수에 위치한 정수를 리턴하는 함수\n",
    "        return (num // (base ** (digit - 1))) % base\n",
    "\n",
    "    results = [None] * len(array)\n",
    "    count = [0] * base # 0~9까지의 숫자 개수를 저장\n",
    "\n",
    "    for i in range(len(array)): # 개수 구하기\n",
    "        count[get_digit_number(array[i], digit)] += 1\n",
    "   \n",
    "    for i in range(base-1): # 누적 개수 구하기\n",
    "        count[i+1] += count[i]\n",
    "        \n",
    "    for i in reversed(range(len(array))):\n",
    "        count[get_digit_number(array[i], digit)] -= 1\n",
    "        results[count[get_digit_number(array[i], digit)]] = array[i]\n",
    "    \n",
    "    return results\n",
    "\n",
    "def radix_sort(array):\n",
    "    max_digit = len(str(max(array)))\n",
    "    \n",
    "    for i in range(1, max_digit+1): # 1의 자리부터 계수정렬 수행\n",
    "        array = counting_sort_by_digit(array, i)\n",
    "        \n",
    "    return array\n",
    "        \n",
    "data = [123, 401, 210, 113, 124, 784, 296, 472, 882, 251, 902, 943]\n",
    "\n",
    "radix_sort(data)"
   ]
  },
  {
   "cell_type": "markdown",
   "metadata": {},
   "source": [
    "# 문제3\n",
    "\n",
    "https://www.acmicpc.net/problem/10989\n",
    "\n",
    "위 문제를 풀고 코드를 아래에 붙여넣기 하시오.\n",
    "\n",
    "- 문제\n",
    "\n",
    "    - N개의 수가 주어졌을 때, 이를 오름차순으로 정렬하는 프로그램을 작성하시오.\n",
    "\n",
    "- 입력\n",
    "\n",
    "    - 첫째 줄에 수의 개수 N(1 ≤ N ≤ 10,000,000)이 주어진다. 둘째 줄부터 N개의 줄에는 수가 주어진다. 이 수는 10,000보다 작거나 같은 자연수이다.\n",
    "\n",
    "- 출력\n",
    "\n",
    "    - 첫째 줄부터 N개의 줄에 오름차순으로 정렬한 결과를 한 줄에 하나씩 출력한다.\n",
    "\n",
    "참고) 빠른 입력과 계수정렬 사용\n",
    "```\n",
    "import sys\n",
    "input = sys.stdin.readline\n",
    "```\n"
   ]
  },
  {
   "cell_type": "code",
   "execution_count": 15,
   "metadata": {},
   "outputs": [
    {
     "ename": "ValueError",
     "evalue": "invalid literal for int() with base 10: ''",
     "output_type": "error",
     "traceback": [
      "\u001b[1;31m---------------------------------------------------------------------------\u001b[0m",
      "\u001b[1;31mValueError\u001b[0m                                Traceback (most recent call last)",
      "Input \u001b[1;32mIn [15]\u001b[0m, in \u001b[0;36m<cell line: 4>\u001b[1;34m()\u001b[0m\n\u001b[0;32m      1\u001b[0m \u001b[38;5;28;01mimport\u001b[39;00m \u001b[38;5;21;01msys\u001b[39;00m\n\u001b[0;32m      2\u001b[0m \u001b[38;5;28minput\u001b[39m \u001b[38;5;241m=\u001b[39m sys\u001b[38;5;241m.\u001b[39mstdin\u001b[38;5;241m.\u001b[39mreadline\n\u001b[1;32m----> 4\u001b[0m n \u001b[38;5;241m=\u001b[39m \u001b[38;5;28;43mint\u001b[39;49m\u001b[43m(\u001b[49m\u001b[38;5;28;43minput\u001b[39;49m\u001b[43m(\u001b[49m\u001b[43m)\u001b[49m\u001b[43m)\u001b[49m\n\u001b[0;32m      5\u001b[0m count \u001b[38;5;241m=\u001b[39m [\u001b[38;5;241m0\u001b[39m] \u001b[38;5;241m*\u001b[39m (\u001b[38;5;241m10_000\u001b[39m\u001b[38;5;241m+\u001b[39m\u001b[38;5;241m1\u001b[39m)\n\u001b[0;32m      7\u001b[0m \u001b[38;5;28;01mfor\u001b[39;00m _ \u001b[38;5;129;01min\u001b[39;00m \u001b[38;5;28mrange\u001b[39m(n):\n",
      "\u001b[1;31mValueError\u001b[0m: invalid literal for int() with base 10: ''"
     ]
    }
   ],
   "source": [
    "import sys\n",
    "input = sys.stdin.readline\n",
    "\n",
    "n = int(input())\n",
    "count = [0] * (10_000+1)\n",
    "\n",
    "for _ in range(n):\n",
    "    count[int(input())] += 1\n",
    "    \n",
    "for i in range(len(count)):\n",
    "    for j in range(count[i]):\n",
    "        print(i)"
   ]
  },
  {
   "cell_type": "markdown",
   "metadata": {},
   "source": [
    "## ppt 문제 1\n",
    "삽입 정렬 문제"
   ]
  },
  {
   "cell_type": "code",
   "execution_count": 3,
   "metadata": {},
   "outputs": [
    {
     "name": "stdout",
     "output_type": "stream",
     "text": [
      "[0, 1, 2, 3, 4, 5, 6, 7, 8, 9]\n"
     ]
    }
   ],
   "source": [
    "array = [7, 5, 9, 0, 3, 1, 6, 2, 4, 8]\n",
    "\n",
    "for i in range(1, len(array)):\n",
    "    for j in range(i, 0, -1):\n",
    "        if array[j] < array[j-1]:\n",
    "            array[j], array[j-1] = array[j-1], array[j]\n",
    "        else:\n",
    "            break\n",
    "print(array)"
   ]
  },
  {
   "cell_type": "markdown",
   "metadata": {},
   "source": [
    "## ppt 문제 2\n",
    "계수 정렬 소스코드(안정성을 가진 버전)"
   ]
  },
  {
   "cell_type": "code",
   "execution_count": 4,
   "metadata": {},
   "outputs": [
    {
     "name": "stdout",
     "output_type": "stream",
     "text": [
      "[0, 0, 1, 1, 2, 2, 3, 4, 5, 5, 6, 7, 8, 9, 9]\n"
     ]
    }
   ],
   "source": [
    "# 안정 계수 정렬(stable counting sort)\n",
    "def counting_sort_stable(array):\n",
    "    results = [None] * len(array) # 정답 저장할 리스트\n",
    "    count = [0] * (max(array) + 1) # 모든 범위를 포함하는 리스트 선언(모든 값은 0으로 초기화)\n",
    "    \n",
    "    for i in range(len(array)):\n",
    "        count[array[i]] += 1 # 수의 개수 세기\n",
    "        \n",
    "    for i in range(len(count)-1):\n",
    "        count[i+1] += count[i] # 누적 개수 구하기\n",
    "        \n",
    "    for i in reversed(range(len(array))):\n",
    "        count[array[i]] -= 1\n",
    "        results[count[array[i]]] = array[i]\n",
    "        \n",
    "    return results\n",
    "    \n",
    "\n",
    "array = [7,5,9,0,3,1,6,2,9,1,4,8,0,5,2]\n",
    "print(counting_sort_stable(array))"
   ]
  },
  {
   "cell_type": "markdown",
   "metadata": {},
   "source": [
    "## ppt 문제 3\n",
    "두 배열의 원소 교체\n",
    "\n",
    "- 동빈이는 두 개의 배열 A와 B를 가지고 있다. 두 배열은 N개의 원소로 구성되어 있으며, 배열의 원소는\n",
    "모두 자연수이다\n",
    "\n",
    "- 동빈이는 최대 K 번의 바꿔치기 연산을 수행할 수 있는데, 바꿔치기 연산이란 배열 A에 있는 원소 하나와\n",
    "배열 B에 있는 원소 하나를 골라서 두 원소를 서로 바꾸는 것을 말한다\n",
    "\n",
    "- 동빈이의 최종 목표는 배열 A의 모든 원소의 합이 최대가 되도록 하는 것이며, 여러분은 동빈이를 도와야한다\n",
    "\n",
    "- N, K, 그리고 배열 A와 B의 정보가 주어졌을 때, 최대 K 번의 바꿔치기 연산을 수행하여 만들 수 있는\n",
    "배열 A의 모든 원소의 합의 최댓값을 출력하는 프로그램을 작성하라\n",
    "\n",
    "- 예를 들어 N = 5, K = 3이고, 배열 A와 B가 다음과 같다고 해보자\n",
    "\n",
    "    - 배열 A = [1, 2, 5, 4, 3]\n",
    "\n",
    "    - 배열 B = [5, 5, 6, 6, 5]\n",
    "- 이 경우, 다음과 같이 세 번의 연산을 수행할 수 있다\n",
    "\n",
    "    - 연산 1) 배열 A의 원소 '1'과 배열 B의 원소 '6'을 바꾸기\n",
    "\n",
    "    - 연산 2) 배열 A의 원소 '2'와 배열 B의 원소 '6'을 바꾸기\n",
    "\n",
    "    - 연산 3) 배열 A의 원소 '3'과 배열 B의 원소 '5'를 바꾸기\n",
    "- 세 번의 연산 이후 배열 A와 배열 B의 상태는 다음과 같이 구성될 것이다\n",
    "\n",
    "    - 배열 A = [6, 6, 5, 4, 5]\n",
    "\n",
    "    - 배열 B = [3, 5, 1, 2, 5]\n",
    "- 이때 배열 A의 모든 원소의 합은 26이 되며, 이보다 더 합을 크게 만들 수는 없다\n",
    "\n",
    "- 입력\n",
    "첫 번째 줄: N, K 가 공백으로 구분되어 입력 (1 <= N <= 100,000, 0 <= K <= N)\n",
    "두 번째 줄: 배열 A의 원소들이 공백으로 구분되어 입력 (원소 a < 10,000,000인 자연수)\n",
    "세 번째 줄: 배열 B의 원소들이 공백으로 구분되어 입력 (원소 b < 10,000,000인 자연수)\n",
    "- 출력\n",
    "최대 K번 바꿔치기 연산을 수행해서 가장 최대의 합을 갖는 A의 모든 원소 값의 합을 출력\n",
    "\n",
    "<입력 예시>\n",
    "\n",
    "5 3\n",
    "\n",
    "1 2 5 4 3\n",
    "\n",
    "5 5 6 6 5\n",
    "\n",
    "<출력 예시>\n",
    "\n",
    "26"
   ]
  },
  {
   "cell_type": "code",
   "execution_count": 10,
   "metadata": {},
   "outputs": [
    {
     "name": "stdout",
     "output_type": "stream",
     "text": [
      "5 3\n",
      "1 2 5 4 3\n",
      "5 5 6 6 5\n",
      "26\n"
     ]
    }
   ],
   "source": [
    "n, k = map(int, input().split())\n",
    "a = list(map(int, input().split()))\n",
    "b = list(map(int, input().split()))\n",
    "\n",
    "a.sort()\n",
    "b.sort(reverse=True)\n",
    "\n",
    "for i in range(k):\n",
    "    if a[i] < b[i]:\n",
    "        a[i], b[i] = b[i], a[i]\n",
    "    else:\n",
    "        break\n",
    "        \n",
    "print(sum(a))"
   ]
  },
  {
   "cell_type": "code",
   "execution_count": null,
   "metadata": {},
   "outputs": [],
   "source": []
  }
 ],
 "metadata": {
  "kernelspec": {
   "display_name": "Python 3",
   "language": "python",
   "name": "python3"
  },
  "language_info": {
   "codemirror_mode": {
    "name": "ipython",
    "version": 3
   },
   "file_extension": ".py",
   "mimetype": "text/x-python",
   "name": "python",
   "nbconvert_exporter": "python",
   "pygments_lexer": "ipython3",
   "version": "3.7.3"
  },
  "toc": {
   "base_numbering": 1,
   "nav_menu": {},
   "number_sections": true,
   "sideBar": true,
   "skip_h1_title": false,
   "title_cell": "Table of Contents",
   "title_sidebar": "Contents",
   "toc_cell": false,
   "toc_position": {},
   "toc_section_display": true,
   "toc_window_display": false
  },
  "varInspector": {
   "cols": {
    "lenName": 16,
    "lenType": 16,
    "lenVar": 40
   },
   "kernels_config": {
    "python": {
     "delete_cmd_postfix": "",
     "delete_cmd_prefix": "del ",
     "library": "var_list.py",
     "varRefreshCmd": "print(var_dic_list())"
    },
    "r": {
     "delete_cmd_postfix": ") ",
     "delete_cmd_prefix": "rm(",
     "library": "var_list.r",
     "varRefreshCmd": "cat(var_dic_list()) "
    }
   },
   "types_to_exclude": [
    "module",
    "function",
    "builtin_function_or_method",
    "instance",
    "_Feature"
   ],
   "window_display": false
  }
 },
 "nbformat": 4,
 "nbformat_minor": 2
}
