{
 "cells": [
  {
   "cell_type": "code",
   "execution_count": 1,
   "metadata": {
    "ExecuteTime": {
     "end_time": "2019-09-10T04:00:05.497613Z",
     "start_time": "2019-09-10T04:00:05.491632Z"
    }
   },
   "outputs": [
    {
     "data": {
      "text/html": [
       "<style>.container { width:95% !important; }</style>"
      ],
      "text/plain": [
       "<IPython.core.display.HTML object>"
      ]
     },
     "metadata": {},
     "output_type": "display_data"
    },
    {
     "data": {
      "text/html": [
       "<style>.input_area pre {font-family: Consolas; font-size: 15pt; line-height: 140%; font-weight: bold}</style>"
      ],
      "text/plain": [
       "<IPython.core.display.HTML object>"
      ]
     },
     "metadata": {},
     "output_type": "display_data"
    },
    {
     "data": {
      "text/html": [
       "<style>.output_area pre {font-family: Consolas; font-size: 15pt; line-height: 140%;}</style>"
      ],
      "text/plain": [
       "<IPython.core.display.HTML object>"
      ]
     },
     "metadata": {},
     "output_type": "display_data"
    }
   ],
   "source": [
    "from IPython.core.display import display, HTML\n",
    "display(HTML(\"<style>.container { width:95% !important; }</style>\"))\n",
    "display(HTML(\"<style>.input_area pre {font-family: Consolas; font-size: 15pt; line-height: 140%; font-weight: bold}</style>\"))\n",
    "display(HTML(\"<style>.output_area pre {font-family: Consolas; font-size: 15pt; line-height: 140%;}</style>\"))\n"
   ]
  },
  {
   "cell_type": "markdown",
   "metadata": {},
   "source": [
    "# 파일 이름에서 '학번'을 자신의 학번으로, '이름'을 자신의 이름으로 고치시오."
   ]
  },
  {
   "cell_type": "markdown",
   "metadata": {},
   "source": [
    "# 문제1\n",
    "\n",
    "바텀업(DP 테이블) 방식으로 피보나치 수열을 항을 구하는 함수를 작성하시오.\n",
    "\n",
    "- 파라미터\n",
    "    - x: 피보나치 수열의 항 번호\n",
    "- 리턴\n",
    "    - 피보나치 수열의 항 값\n",
    "\n",
    "***결과***\n",
    "```\n",
    "2\n",
    "3\n",
    "9227465\n",
    "```"
   ]
  },
  {
   "cell_type": "code",
   "execution_count": 36,
   "metadata": {
    "ExecuteTime": {
     "end_time": "2022-05-23T04:55:04.004656Z",
     "start_time": "2022-05-23T04:55:03.987680Z"
    }
   },
   "outputs": [
    {
     "name": "stdout",
     "output_type": "stream",
     "text": [
      "2\n",
      "3\n",
      "9227465\n"
     ]
    }
   ],
   "source": [
    "def fibo_bottomup(x):\n",
    "    d = [0] * (x+1)\n",
    "    \n",
    "    d[1] = 1\n",
    "    d[2] = 1\n",
    "    \n",
    "    for i in range(3, x+1):\n",
    "        d[i] = d[i-1] + d[i-2]\n",
    "        \n",
    "    return d[x]\n",
    "\n",
    "# 아래는 수정하지 마시오.\n",
    "print(fibo_bottomup(3))\n",
    "print(fibo_bottomup(4))\n",
    "print(fibo_bottomup(35))\n"
   ]
  },
  {
   "cell_type": "markdown",
   "metadata": {},
   "source": [
    "# 문제2\n",
    "\n",
    "```1로 만들기``` 문제풀이를 함수 형태로 구현하시오.\n",
    "\n",
    "```\n",
    "정수 n이 주어졌을 때, 정수 n에 사용할 수 있는 연산은 다음과 같이 4가지입니다.\n",
    "    - n이 5로 나누어 떨어지면, 5로 나눕니다.\n",
    "    - n이 3으로 나누어 떨어지면, 3으로 나눕니다.\n",
    "    - n이 2로 나누어 떨어지면, 2로 나눕니다.\n",
    "    - n에서 1을 뺍니다.\n",
    "\n",
    "정수 n이 주어졌을 때, 연산 4개를 적절히 사용해서 값을 1로 만들고자 합니다. 연산을 사용하는 횟수의 최솟값을 리턴하시오.\n",
    "\n",
    "```\n",
    "\n",
    "- parameter\n",
    "    - n: 정수 (1<= n <= 30000)\n",
    "- return\n",
    "    - 연산을 하는 횟수의 최소값\n",
    "\n",
    "***결과***\n",
    "```\n",
    "3\n",
    "6\n",
    "```\n"
   ]
  },
  {
   "cell_type": "code",
   "execution_count": 3,
   "metadata": {
    "ExecuteTime": {
     "end_time": "2022-05-23T05:04:33.012173Z",
     "start_time": "2022-05-23T05:04:33.001174Z"
    }
   },
   "outputs": [
    {
     "name": "stdout",
     "output_type": "stream",
     "text": [
      "3\n",
      "6\n"
     ]
    }
   ],
   "source": [
    "def make_one(n):\n",
    "    d = [0] * (n+1)\n",
    "    \n",
    "    for i in range(2, n+1):\n",
    "        d[i] = d[i-1] + 1     # 현재 수에서 1 빼기 \n",
    "        \n",
    "        if i % 2 == 0:\n",
    "            d[i] = min(d[i], d[i//2] + 1)\n",
    "        \n",
    "        if i % 3 == 0:\n",
    "            d[i] = min(d[i], d[i//3] + 1)\n",
    "        \n",
    "        if i % 5 == 0:\n",
    "            d[i] = min(d[i], d[i//5] + 1)\n",
    "        \n",
    "    return d[n]\n",
    "\n",
    "print(make_one(26))\n",
    "print(make_one(111))\n"
   ]
  },
  {
   "cell_type": "code",
   "execution_count": 46,
   "metadata": {},
   "outputs": [
    {
     "name": "stdout",
     "output_type": "stream",
     "text": [
      "3\n",
      "6\n"
     ]
    }
   ],
   "source": [
    "# 교수님 풀이\n",
    "def make_one(n):\n",
    "    d = [0] * (n+1)\n",
    "    \n",
    "    for i in range(2, n+1):\n",
    "        c = [d[i-1]] # 초기값\n",
    "        \n",
    "        if i % 2 == 0:\n",
    "            c.append(d[i//2])\n",
    "        if i % 3 == 0:\n",
    "            c.append(d[i//3])\n",
    "        if i % 5 == 0:\n",
    "            c.append(d[i//5])\n",
    "            \n",
    "        d[i] = min(c) + 1\n",
    "        \n",
    "    return d[n]\n",
    "\n",
    "print(make_one(26))\n",
    "print(make_one(111))"
   ]
  },
  {
   "cell_type": "markdown",
   "metadata": {},
   "source": [
    "# ppt 문제 1\n",
    "피보나치 수열 : 탑다운 다이나믹 프로그래밍 소스코드"
   ]
  },
  {
   "cell_type": "code",
   "execution_count": 4,
   "metadata": {},
   "outputs": [
    {
     "name": "stdout",
     "output_type": "stream",
     "text": [
      "218922995834555169026\n"
     ]
    }
   ],
   "source": [
    "# 한 번 계산된 결과를 메모이제이션하기 위한 리스트 초기화\n",
    "d = [0] * 100\n",
    "\n",
    "# 피보나치 함수를 재귀함수로 구현(탑다운 다이나믹 프로그래밍)\n",
    "def fibo_topdown(x):\n",
    "    if x == 1 or x == 2:\n",
    "        return 1\n",
    "    # 이미 계산한 적 있는 문제라면 그대로 반환\n",
    "    if d[x] != 0:\n",
    "        return d[x]\n",
    "    # 아직 계산하지 않은 문제라면 점화식에 따라서 피보나치 결과 반환\n",
    "    d[x] = fibo_topdown(x-1) + fibo_topdown(x-2)\n",
    "    return d[x]\n",
    "\n",
    "print(fibo_topdown(99))"
   ]
  },
  {
   "attachments": {
    "image.png": {
     "image/png": "[encoded data removed]"
    }
   },
   "cell_type": "markdown",
   "metadata": {},
   "source": [
    "# ppt 문제 2\n",
    "개미 전사\n",
    "\n",
    "[문제 설명]\n",
    "\n",
    "- 개미 전사는 부족한 식량을 충당하고자 메뚜기 마을의 식량창고를 몰래 공격하려고 합니다. 메뚜기 마을에는 여러 개의 식량창고가 있는데 식량창고는 일직선으로 이어져 있습니다.\n",
    "\n",
    "- 각 식량창고에는 정해진 수의 식량을 저장하고 있으며 개미 전사는 선택적으로 약탈하여 식량을 빼앗을 예정입니다. 이때 메뚜기 정찰병들은 일지선상에 존재하는 식량창고 중에서 서로 인접한 식량창고가 공격받으면 바로 알아챌 수 있습니다.\n",
    "\n",
    "- 따라서 개미 전사가 정찰병에게 들키지 않고 식량창고를 약탈하기 위해서는 최소한 한 칸 이상 떨어진 식량창고를 약탈해야 합니다.\n",
    "![image.png](attachment:image.png)\n",
    "\n",
    "- 이때 개미 전사는 두 번째 식량창고와 네 번째 식량창고를 선택했을 때 최댓값인 총 8개의 식량을 빼앗을 수 있습니다. 개미 전사는 식량창고가 이렇게 일직선상일 때 최대한 많은 식량을 얻기를 윈합니다.\n",
    "\n",
    "- 개미전사를 위해 식량창고 N개에 대한 정보가 주어졌을 때 얻을 수 있는 식량의 최댓값을 구하는 프로그램을 작성하시오.\n",
    "\n",
    "[입력 조건]\n",
    "\n",
    "- 첫째 줄에 식량창고의 개수 N이 주어집니다. (3≤N≤100)\n",
    "둘째 줄에 공백을 기준으로 각 식량창고에 저장된 식량의 개수 K가 주어집니다. (0≤K≤1,000)\n",
    "\n",
    "[출력 조건]\n",
    "\n",
    "- 첫째 줄에 개미 전사가 얻을 수 있는 식량의 최댓값을 출력하세요.\n",
    "\n",
    "[입력 예시 및 출력]\n",
    "\n",
    "- 입력 예시:\n",
    "\n",
    "    4\n",
    "    \n",
    "    1 3 1 5\n",
    "\n",
    "\n",
    "- 출력 예시:\n",
    "    \n",
    "    8"
   ]
  },
  {
   "cell_type": "code",
   "execution_count": 4,
   "metadata": {},
   "outputs": [
    {
     "name": "stdout",
     "output_type": "stream",
     "text": [
      "4\n",
      "1 3 1 5\n",
      "8\n"
     ]
    }
   ],
   "source": [
    "n = int(input())\n",
    "array = list(map(int, input().split()))\n",
    "\n",
    "d = [0] * 100\n",
    "\n",
    "d[0] = array[0]\n",
    "d[1] = max(array[0], array[1])\n",
    "\n",
    "for i in range(2, n):\n",
    "    d[i] = max(d[i-1], d[i-2] + array[i])\n",
    "    \n",
    "print(d[n-1])"
   ]
  },
  {
   "cell_type": "code",
   "execution_count": null,
   "metadata": {},
   "outputs": [],
   "source": []
  }
 ],
 "metadata": {
  "kernelspec": {
   "display_name": "Python 3",
   "language": "python",
   "name": "python3"
  },
  "language_info": {
   "codemirror_mode": {
    "name": "ipython",
    "version": 3
   },
   "file_extension": ".py",
   "mimetype": "text/x-python",
   "name": "python",
   "nbconvert_exporter": "python",
   "pygments_lexer": "ipython3",
   "version": "3.7.3"
  },
  "toc": {
   "base_numbering": 1,
   "nav_menu": {},
   "number_sections": true,
   "sideBar": true,
   "skip_h1_title": false,
   "title_cell": "Table of Contents",
   "title_sidebar": "Contents",
   "toc_cell": false,
   "toc_position": {},
   "toc_section_display": true,
   "toc_window_display": false
  },
  "varInspector": {
   "cols": {
    "lenName": 16,
    "lenType": 16,
    "lenVar": 40
   },
   "kernels_config": {
    "python": {
     "delete_cmd_postfix": "",
     "delete_cmd_prefix": "del ",
     "library": "var_list.py",
     "varRefreshCmd": "print(var_dic_list())"
    },
    "r": {
     "delete_cmd_postfix": ") ",
     "delete_cmd_prefix": "rm(",
     "library": "var_list.r",
     "varRefreshCmd": "cat(var_dic_list()) "
    }
   },
   "types_to_exclude": [
    "module",
    "function",
    "builtin_function_or_method",
    "instance",
    "_Feature"
   ],
   "window_display": false
  }
 },
 "nbformat": 4,
 "nbformat_minor": 2
}
