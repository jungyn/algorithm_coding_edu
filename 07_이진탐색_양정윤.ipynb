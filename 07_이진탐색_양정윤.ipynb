{
 "cells": [
  {
   "cell_type": "code",
   "execution_count": 4,
   "metadata": {
    "ExecuteTime": {
     "end_time": "2023-05-07T01:55:38.367121Z",
     "start_time": "2023-05-07T01:55:38.341162Z"
    }
   },
   "outputs": [
    {
     "data": {
      "text/html": [
       "<style>.container { width:100% !important; }</style>"
      ],
      "text/plain": [
       "<IPython.core.display.HTML object>"
      ]
     },
     "metadata": {},
     "output_type": "display_data"
    },
    {
     "data": {
      "text/html": [
       "<style>\n",
       "div.CodeMirror, div.CodeMirror pre, div.CodeMirror-code,\n",
       "div.output_area pre, div.output_wrapper pre,\n",
       ".text_cell_render, .text_cell_render *\n",
       "{ font-family: Consolas; font-size: 15pt; line-height: 140%;}\n",
       "</style>"
      ],
      "text/plain": [
       "<IPython.core.display.HTML object>"
      ]
     },
     "metadata": {},
     "output_type": "display_data"
    }
   ],
   "source": [
    "from IPython.display import display, HTML, Markdown\n",
    "display(HTML(\"<style>.container { width:100% !important; }</style>\"))\n",
    "display(HTML(\"\"\"<style>\n",
    "div.CodeMirror, div.CodeMirror pre, div.CodeMirror-code,\n",
    "div.output_area pre, div.output_wrapper pre,\n",
    ".text_cell_render, .text_cell_render *\n",
    "{ font-family: Consolas; font-size: 15pt; line-height: 140%;}\n",
    "</style>\"\"\"))"
   ]
  },
  {
   "cell_type": "markdown",
   "metadata": {},
   "source": [
    "# 제출 방법\n",
    "\n",
    "1. 파일 이름에서 '이름'을 자신의 이름으로 고쳐서 제출하시오.\n",
    "2. 제출 후 파일을 삭제하시오."
   ]
  },
  {
   "cell_type": "markdown",
   "metadata": {},
   "source": [
    "## 문제1\n",
    "\n",
    "bisect_left 함수를 직접구현한 my_bisect_left 함수를 작성하시오.\n",
    "\n",
    "***결과***\n",
    "```\n",
    "1\n",
    "2\n",
    "2\n",
    "```\n"
   ]
  },
  {
   "cell_type": "code",
   "execution_count": 39,
   "metadata": {
    "ExecuteTime": {
     "end_time": "2022-05-09T07:07:17.574939Z",
     "start_time": "2022-05-09T07:07:17.563462Z"
    }
   },
   "outputs": [
    {
     "name": "stdout",
     "output_type": "stream",
     "text": [
      "1\n",
      "2\n",
      "2\n"
     ]
    }
   ],
   "source": [
    "def my_bisect_left(nums, target):\n",
    "    left = 0\n",
    "    right = len(nums) - 1\n",
    "    result = 0\n",
    "    \n",
    "    while left <= right:\n",
    "        mid = (left + right) // 2\n",
    "        if nums[mid] < target:\n",
    "            left = mid + 1\n",
    "            result = left\n",
    "        else:\n",
    "            right = mid - 1\n",
    "    return result\n",
    "\n",
    "print(my_bisect_left([1], 3))\n",
    "print(my_bisect_left([1,2,3], 3))\n",
    "print(my_bisect_left([1,1,2,2,2,3], 2))\n",
    "\n"
   ]
  },
  {
   "cell_type": "markdown",
   "metadata": {},
   "source": [
    "## 문제2\n",
    "\n",
    "bisect_right 함수를 직접구현한 my_bisect_right 함수를 작성하시오.\n",
    "\n",
    "***결과***\n",
    "```\n",
    "1\n",
    "3\n",
    "5\n",
    "```\n"
   ]
  },
  {
   "cell_type": "code",
   "execution_count": 40,
   "metadata": {
    "ExecuteTime": {
     "end_time": "2022-05-09T06:53:18.976102Z",
     "start_time": "2022-05-09T06:53:18.958419Z"
    }
   },
   "outputs": [
    {
     "name": "stdout",
     "output_type": "stream",
     "text": [
      "1\n",
      "3\n",
      "5\n"
     ]
    }
   ],
   "source": [
    "def my_bisect_right(nums, target):\n",
    "    left = 0\n",
    "    right = len(nums) - 1\n",
    "    result = 0\n",
    "    \n",
    "    while left <= right:\n",
    "        mid = (left + right) // 2\n",
    "        if nums[mid] <= target:   # bisect_left와 부호(=) 하나만 다름\n",
    "            left = mid + 1\n",
    "            result = left\n",
    "        else:\n",
    "            right = mid - 1\n",
    "    return result\n",
    "\n",
    "print(my_bisect_right([1], 3))\n",
    "print(my_bisect_right([1,2,3], 3))\n",
    "print(my_bisect_right([1,1,2,2,2,3], 2))\n",
    "\n"
   ]
  },
  {
   "cell_type": "markdown",
   "metadata": {},
   "source": [
    "## 문제 3\n",
    "\n",
    "출처: https://www.acmicpc.net/problem/2512\n",
    "\n",
    "국가의 역할 중 하나는 여러 지방의 예산요청을 심사하여 국가의 예산을 분배하는 것이다. 국가예산의 총액은 미리 정해져 있어서 모든 예산요청을 배정해 주기는 어려울 수도 있다. 그래서 정해진 총액 이하에서 가능한 한 최대의 총 예산을 다음과 같은 방법으로 배정한다.\n",
    "\n",
    "모든 요청이 배정될 수 있는 경우에는 요청한 금액을 그대로 배정한다.\n",
    "모든 요청이 배정될 수 없는 경우에는 특정한 정수 상한액을 계산하여 그 이상인 예산요청에는 모두 상한액을 배정한다. 상한액 이하의 예산요청에 대해서는 요청한 금액을 그대로 배정한다. \n",
    "예를 들어, 전체 국가예산이 485이고 4개 지방의 예산요청이 각각 120, 110, 140, 150이라고 하자. 이 경우, 상한액을 127로 잡으면, 위의 요청들에 대해서 각각 120, 110, 127, 127을 배정하고 그 합이 484로 가능한 최대가 된다. \n",
    "\n",
    "여러 지방의 예산요청과 국가예산의 총액이 주어졌을 때, 위의 조건을 모두 만족하도록 예산을 배정하는 프로그램을 작성하시오.\n",
    "\n",
    " - 입력\n",
    ">첫째 줄에는 지방의 수를 의미하는 정수 N이 주어진다. N은 3 이상 10,000 이하이다. 다음 줄에는 각 지방의 예산요청을 표현하는 N개의 정수가 빈칸을 사이에 두고 주어진다. 이 값들은 모두 1 이상 100,000 이하이다. 그 다음 줄에는 총 예산을 나타내는 정수 M이 주어진다. M은 N 이상 1,000,000,000 이하이다. \n",
    "\n",
    " - 출력 \n",
    ">첫째 줄에는 배정된 예산들 중 최댓값인 정수를 출력한다. \n",
    "\n",
    "\n",
    "***결과***\n",
    "```\n",
    "127\n",
    "100\n",
    "```"
   ]
  },
  {
   "cell_type": "code",
   "execution_count": 41,
   "metadata": {
    "ExecuteTime": {
     "end_time": "2023-05-07T01:56:33.111611Z",
     "start_time": "2023-05-07T01:56:33.096652Z"
    }
   },
   "outputs": [
    {
     "name": "stdout",
     "output_type": "stream",
     "text": [
      "127\n",
      "100\n"
     ]
    }
   ],
   "source": [
    "from io import StringIO\n",
    "\n",
    "def solution():\n",
    "    n = int(input()) # 지방의 수\n",
    "    demand = list(map(int, input().split())) # 예산요청  \n",
    "    budget = int(input()) # 쓸 수 있는 예산\n",
    "    \n",
    "    start = 0\n",
    "    end = max(demand)\n",
    "    \n",
    "    while start <= end:\n",
    "        mid = (start + end) // 2  # 예산 상한\n",
    "        \n",
    "        # 총 지급한 예산 합\n",
    "        total = 0\n",
    "        for i in demand:\n",
    "            if i <= mid:\n",
    "                total += i\n",
    "            else:\n",
    "                total += mid\n",
    "                \n",
    "        if total > budget:\n",
    "            end = mid - 1\n",
    "        else:\n",
    "            result = mid\n",
    "            start = mid + 1\n",
    "            \n",
    "    print(result)        \n",
    "    \n",
    "            \n",
    "# 아래는 수정하지 마시오.\n",
    "input_str = \\\n",
    "\"\"\"\n",
    "4\n",
    "120 110 140 150\n",
    "485\n",
    "\"\"\"\n",
    "stream = StringIO(input_str.strip())\n",
    "input = stream.readline\n",
    "solution()\n",
    "\n",
    "input_str = \\\n",
    "\"\"\"\n",
    "5\n",
    "70 80 30 40 100\n",
    "450\n",
    "\"\"\"\n",
    "stream = StringIO(input_str.strip())\n",
    "input = stream.readline\n",
    "solution()"
   ]
  },
  {
   "cell_type": "markdown",
   "metadata": {},
   "source": [
    "## 문제4\n",
    "\n",
    "부루트포스(완전탐색)방법을 이용하여, \n",
    "\n",
    "덧셈을 하여 타겟을 만들 수 있는 배열의 두 숫자 인덱스를 리턴하라.\n",
    "\n",
    "- 제한 사항\n",
    "    - 단 하나의 솔루션이 있다고 가정한다.\n",
    "    - 같은 원소를 두번 사용하지 않는다.\n",
    "    \n",
    "- 파라미터\n",
    "    - nums: 정수를 가지고 있는 정렬되어 있는 리스트\n",
    "    - return: 두개의 인덱스값을 가진 튜플 (인덱스 값은 오름차순으로 정렬되어 있음)\n",
    "\n",
    "\n",
    "***결과***\n",
    "```\n",
    "(1, 3)\n",
    "```\n"
   ]
  },
  {
   "cell_type": "code",
   "execution_count": 42,
   "metadata": {
    "ExecuteTime": {
     "end_time": "2022-05-09T01:14:51.143854Z",
     "start_time": "2022-05-09T01:14:51.134878Z"
    }
   },
   "outputs": [
    {
     "name": "stdout",
     "output_type": "stream",
     "text": [
      "(1, 3)\n"
     ]
    }
   ],
   "source": [
    "def find_two_sum1(nums, target):                # 완전탐색 : 시간이 걸리는 방법\n",
    "    for i in range(len(nums)):\n",
    "        for j in range(i+1,len(nums)):\n",
    "            if nums[i]+nums[j] == target:\n",
    "                return (i, j)\n",
    "\n",
    "print(find_two_sum1([2, 7, 11, 15], 22))\n"
   ]
  },
  {
   "cell_type": "markdown",
   "metadata": {},
   "source": [
    "## 문제5\n",
    "\n",
    "이진 탐색을 이용하여,\n",
    "\n",
    "덧셈을 하여 타겟을 만들 수 있는 배열의 두 숫자 인덱스를 리턴하라.\n",
    "\n",
    "- 제한 사항\n",
    "    - 단 하나의 솔루션이 있다고 가정한다.\n",
    "    - 같은 원소를 두번 사용하지 않는다.\n",
    "    \n",
    "- 파라미터\n",
    "    - nums: 정수를 가지고 있는 정렬되어 있는 리스트\n",
    "    - return: 두개의 인덱스값을 가진 튜플\n",
    "\n",
    "\n",
    "***결과***\n",
    "```\n",
    "(1, 3)\n",
    "```\n"
   ]
  },
  {
   "cell_type": "code",
   "execution_count": 43,
   "metadata": {
    "ExecuteTime": {
     "end_time": "2022-05-09T01:14:34.842516Z",
     "start_time": "2022-05-09T01:14:34.827589Z"
    }
   },
   "outputs": [
    {
     "name": "stdout",
     "output_type": "stream",
     "text": [
      "(1, 3)\n"
     ]
    }
   ],
   "source": [
    "def find_two_sum2(nums, target):                # 이진탐색 : 빠르게 푸는 방법 (nlog(n)시간)\n",
    "    for i in range(len(nums)):\n",
    "        start = i + 1\n",
    "        end = len(nums) - 1\n",
    "        expected = target - nums[i]   # 기대값\n",
    "        \n",
    "        while start <= end:\n",
    "            mid = (start + end) // 2\n",
    "            \n",
    "            if nums[mid] < expected:\n",
    "                start = mid + 1 \n",
    "            elif nums[mid] > expected:\n",
    "                end = mid - 1\n",
    "            else:\n",
    "                return (i, mid)\n",
    "    return -1\n",
    "\n",
    "print(find_two_sum2([2, 7, 11, 15], 22))\n"
   ]
  },
  {
   "cell_type": "markdown",
   "metadata": {},
   "source": [
    "## ppt 문제 1\n",
    "문제 : 정렬된 배열에서 특정 수의 개수 구하기\n",
    "\n",
    "N개의 원소를 포함하고 있는 수열이 오름차순으로 정렬되어 있습니다. 이때 이 수열에서 x가 등장하는 횟수를 계산하세요."
   ]
  },
  {
   "cell_type": "code",
   "execution_count": 3,
   "metadata": {},
   "outputs": [
    {
     "name": "stdout",
     "output_type": "stream",
     "text": [
      "7 2\n",
      "1 1 2 2 2 2 3\n",
      "4\n"
     ]
    }
   ],
   "source": [
    "from bisect import bisect_left, bisect_right\n",
    "\n",
    "# 값이 [left_value, right_value]인 데이터의 개수를 반환하는 함수\n",
    "def count_by_range(array, left_value, right_value):\n",
    "    right_index = bisect_right(array, right_value)\n",
    "    left_index = bisect_left(array, left_value)\n",
    "    return right_index - left_index\n",
    "\n",
    "n, x = map(int, input().split())\n",
    "array = list(map(int, input().split()))\n",
    "\n",
    "# 값이 [x, x] 범위에 있는 데이터의 개수 계산\n",
    "count = count_by_range(array, x, x)\n",
    "\n",
    "# 값이 x인 원소가 존재하지 않는다면\n",
    "if count == 0:\n",
    "    print(-1)\n",
    "# 값이 x인 원소가 존재한다면\n",
    "else:\n",
    "    print(count)"
   ]
  },
  {
   "cell_type": "markdown",
   "metadata": {},
   "source": [
    "## ppt 문제 2\n",
    "문제 : 떡볶이 떡 만들기\n",
    "\n",
    "오늘 동빈이는 여행 가신 부모님을 대신해서 떡집 일을 하기로 했다. 오늘은 떡볶이 떡을 만드는 날이다. 동빈이네 떡볶이 떡은 재밌게도 떡볶이 떡의 길이가 일정하지 않다. 대신에 한 봉지 안에 들어가는 떡의 총 길이는 절단기로 잘라서 맞춰준다.\n",
    "절단기의 높이(H)를 지정하면 줄지어진 떡을 한 번에 절단한다. 높이가 H보다 긴 떡은 H 위의 부분이 잘릴 것이고, 낮은 떡은 잘리지 않는다. 이걸 처리 안 해줘서 시간을 허비했다.\n",
    "예를 들어 높이가 19, 14, 10, 17cm인 떡이 나란히 있고 절단기 높이를 15cm로 지정하면 자른 뒤 떡의 높이는 15, 14, 10, 15cm가 될 것이다. 잘린 떡의 길이는 차례대로 4, 0, 0, 2cm이다. 손님은 6cm만큼의 길이를 가져간다.\n",
    "손님이 왔을 때 요청한 총 길이가 M일 때 적어도 M만큼의 떡을 얻기 위해 절단기에 설정할 수 있는 높이의 최댓값을 구하는 프로그램을 작성하시오.\n",
    "\n",
    "<제한 사항>\n",
    "\n",
    "첫째 줄에 떡의 개수 N과 요청한 떡의 길이 M이 주어진다. (1<=N<=1,000,000, 1<=M<=2,000,000,000)\n",
    "둘째 줄에는 떡의 개별 높이가 주어진다. 떡 높이의 총합은 항상 M 이상이므로, 손님은 필요한 양만큼 떡을 사갈 수 있다. 높이는 10억보다 작거나 같은 양의 정수 또는 0이다.\n",
    "\n",
    "<입력 예시>\n",
    "\n",
    "4 6\n",
    "\n",
    "19 15 10 17\n",
    "\n",
    "<출력 예시>\n",
    "\n",
    "15"
   ]
  },
  {
   "cell_type": "code",
   "execution_count": 2,
   "metadata": {},
   "outputs": [
    {
     "name": "stdout",
     "output_type": "stream",
     "text": [
      "4 6\n",
      "19 15 10 17\n",
      "15\n"
     ]
    }
   ],
   "source": [
    "# n 은 떡의 개수\n",
    "# m 은 요청한 떡의 길이\n",
    "\n",
    "n, m = map(int, input().split())\n",
    "array = list(map(int, input().split()))\n",
    "# array.sort()\n",
    "\n",
    "start = 0\n",
    "end = max(array)\n",
    "\n",
    "# 절단 위치\n",
    "result = 0\n",
    "\n",
    "while(start <= end):\n",
    "    total = 0 # 총 잘리는 떡의 길이\n",
    "    mid = (start+end)//2\n",
    "\n",
    "    for x in array:\n",
    "        if x > mid:  # 절단기 길이보다 떡 길이가 길면 절단 가능\n",
    "            total += x - mid    # 떡길이 - 절단기 길이\n",
    "\n",
    "    if total < m:           # 요청한 떡 길이보다 작으면? > 더 잘라야됨 > 종료점을 땡겨야함\n",
    "        end = mid - 1\n",
    "\n",
    "    else:  # 필요한 떡의 길이가 요청한 길이보다 클 경우 > 최대한 덜 잘라야 함 > 시작점 증가\n",
    "        result = mid\n",
    "        start = mid + 1   # (종료점을 증가시킬 순 없고, 종료점을 땡기면 떡의 길이가 더 길어짐)\n",
    "\n",
    "print(result)"
   ]
  },
  {
   "cell_type": "code",
   "execution_count": null,
   "metadata": {},
   "outputs": [],
   "source": []
  }
 ],
 "metadata": {
  "kernelspec": {
   "display_name": "Python 3",
   "language": "python",
   "name": "python3"
  },
  "language_info": {
   "codemirror_mode": {
    "name": "ipython",
    "version": 3
   },
   "file_extension": ".py",
   "mimetype": "text/x-python",
   "name": "python",
   "nbconvert_exporter": "python",
   "pygments_lexer": "ipython3",
   "version": "3.7.3"
  },
  "toc": {
   "base_numbering": 1,
   "nav_menu": {},
   "number_sections": true,
   "sideBar": true,
   "skip_h1_title": false,
   "title_cell": "Table of Contents",
   "title_sidebar": "Contents",
   "toc_cell": false,
   "toc_position": {},
   "toc_section_display": true,
   "toc_window_display": false
  },
  "varInspector": {
   "cols": {
    "lenName": 16,
    "lenType": 16,
    "lenVar": 40
   },
   "kernels_config": {
    "python": {
     "delete_cmd_postfix": "",
     "delete_cmd_prefix": "del ",
     "library": "var_list.py",
     "varRefreshCmd": "print(var_dic_list())"
    },
    "r": {
     "delete_cmd_postfix": ") ",
     "delete_cmd_prefix": "rm(",
     "library": "var_list.r",
     "varRefreshCmd": "cat(var_dic_list()) "
    }
   },
   "types_to_exclude": [
    "module",
    "function",
    "builtin_function_or_method",
    "instance",
    "_Feature"
   ],
   "window_display": false
  }
 },
 "nbformat": 4,
 "nbformat_minor": 2
}
