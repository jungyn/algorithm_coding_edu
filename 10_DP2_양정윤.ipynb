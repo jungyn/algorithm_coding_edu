{
 "cells": [
  {
   "cell_type": "code",
   "execution_count": 1,
   "metadata": {
    "ExecuteTime": {
     "end_time": "2022-05-29T05:30:06.593045Z",
     "start_time": "2022-05-29T05:30:06.578056Z"
    }
   },
   "outputs": [
    {
     "data": {
      "text/html": [
       "<style>.container { width:100% !important; }</style>"
      ],
      "text/plain": [
       "<IPython.core.display.HTML object>"
      ]
     },
     "metadata": {},
     "output_type": "display_data"
    },
    {
     "data": {
      "text/html": [
       "<style>\n",
       "div.CodeMirror, div.CodeMirror pre, div.CodeMirror-code,\n",
       "div.output_area pre, div.output_wrapper pre,\n",
       ".text_cell_render, .text_cell_render *\n",
       "{ font-family: Consolas; font-size: 15pt; line-height: 140%;}\n",
       "</style>"
      ],
      "text/plain": [
       "<IPython.core.display.HTML object>"
      ]
     },
     "metadata": {},
     "output_type": "display_data"
    }
   ],
   "source": [
    "from IPython.display import display, HTML, Markdown\n",
    "display(HTML(\"<style>.container { width:100% !important; }</style>\"))\n",
    "display(HTML(\"\"\"<style>\n",
    "div.CodeMirror, div.CodeMirror pre, div.CodeMirror-code,\n",
    "div.output_area pre, div.output_wrapper pre,\n",
    ".text_cell_render, .text_cell_render *\n",
    "{ font-family: Consolas; font-size: 15pt; line-height: 140%;}\n",
    "</style>\"\"\"))"
   ]
  },
  {
   "cell_type": "markdown",
   "metadata": {},
   "source": [
    "# 파일 이름에서 '이름'을 자신의 이름으로 고치시오.\n",
    "# 제출 후 이 파일을 삭제하세요."
   ]
  },
  {
   "cell_type": "markdown",
   "metadata": {},
   "source": [
    "# 문제1\n",
    "\n",
    "\n",
    "여러 종류의 화폐가 있습니다. 이 화폐들의 개수를 최소한으로 이용해서 그 가치의 합이 amount원이 되도록 하려고 합니다. 이때 각 종류의 화폐는 몇 개라도 사용할 수 있습니다.\n",
    "예를 들어 2원, 3원 단위의 화폐가 있을 때는 15원을 만들기 위해 3원을 5개 사용하는 것이 가장 최소한의 화폐 개수입니다.\n",
    "\n",
    "amount 원을 만들기 위한 최소한의 화폐 개수를 출력하는 프로그램을 작성하세요. 만약, amount 원을 만들 수 있는 방법이 없다면, -1을 리턴합니다.\n",
    "\n",
    "- 파라미터:\n",
    "    - coins: 여러 종류의 화폐의 금액이 들어 있는 리스트 (화폐의 금액은 10000보다 작거나 같은 자연수이다.)\n",
    "    - amount: 화폐들의 조합으로 만들어야 하는 금액 (amount는 1이상 10000이하이다.)\n",
    "- 리턴: amount 금액을 만들기 위한 최소한의 화폐 개수\n",
    "\n",
    "***결과***\n",
    "```\n",
    "2\n",
    "22\n",
    "-1\n",
    "```\n"
   ]
  },
  {
   "cell_type": "code",
   "execution_count": 2,
   "metadata": {
    "ExecuteTime": {
     "end_time": "2022-05-29T05:30:06.607977Z",
     "start_time": "2022-05-29T05:30:06.594014Z"
    }
   },
   "outputs": [
    {
     "name": "stdout",
     "output_type": "stream",
     "text": [
      "2\n",
      "22\n",
      "-1\n"
     ]
    }
   ],
   "source": [
    "def change_coins(coins, amount):\n",
    "    INF = 1e4 + 1\n",
    "    d = [INF] * (amount+1)  \n",
    "    d[0] = 0\n",
    "    \n",
    "    # d[i] : i원을 만드는데 필요한 최소한의 화폐 개수\n",
    "    for i in range(1, amount + 1):\n",
    "        for k in coins:\n",
    "            if i-k >= 0:\n",
    "                d[i] = min(d[i], d[i-k]+1)\n",
    "    \n",
    "    return d[amount] if d[amount] < INF else -1\n",
    "\n",
    "print(change_coins([2,5,8], 7))\n",
    "print(change_coins([2,5], 101))\n",
    "print(change_coins([2,5,9], 3))"
   ]
  },
  {
   "cell_type": "markdown",
   "metadata": {},
   "source": [
    "# 문제2\n",
    "\n",
    "금액이 다른 여러 종류의 화폐가 있습니다. 이 화폐들을 이용하여 그 가치의 합이 amount 원이 되도록 하려고 합니다. 이때 각 종류의 화폐는 몇 개라도 사용할 수 있습니다.\n",
    "amount 원을 만들 수 있는 방법은 모두 몇가지 인지 리턴하는 함수를 작성하세요.\n",
    "화폐의 조합으로 amount 원을 만들 수 없다면 0을 리턴합니다.\n",
    "\n",
    "- 파라미터:\n",
    "    - coins: 여러 종류의 화폐의 금액이 들어 있는 리스트 (화폐의 금액은 10000보다 작거나 같은 자연수이다.)\n",
    "    - amount: 화폐들의 조합으로 만들어야 하는 금액 (amount는 1이상 10000이하이다.)\n",
    "- 리턴: amount 금액을 만들 수 있는 방법의 가지수\n",
    "\n",
    "***결과***\n",
    "```\n",
    "2\n",
    "4\n",
    "6\n",
    "```"
   ]
  },
  {
   "cell_type": "code",
   "execution_count": 80,
   "metadata": {
    "ExecuteTime": {
     "end_time": "2022-05-29T05:31:21.319016Z",
     "start_time": "2022-05-29T05:31:21.306049Z"
    }
   },
   "outputs": [
    {
     "name": "stdout",
     "output_type": "stream",
     "text": [
      "2\n",
      "4\n",
      "6\n"
     ]
    }
   ],
   "source": [
    "def change_coins2(amount, coins):\n",
    "    ## DP 테이블 생성과 초기화\n",
    "    d = [[1]+[0]*amount  for _ in range(len(coins)+1)]\n",
    "\n",
    "    ## DP 테이블 채우기\n",
    "    # d[i][j]: i 번째 동전까지 사용가능, j 원을 만드는 방법의 수\n",
    "    for i in range(1, len(coins)+1):\n",
    "        for j in range(1, amount+1):\n",
    "            k = coins[i-1]\n",
    "            if j-k >= 0:\n",
    "                d[i][j] = d[i-1][j] + d[i][j-k]\n",
    "            else:\n",
    "                d[i][j] = d[i-1][j] + 0\n",
    "    \n",
    "    return d[len(coins)][amount] if d[len(coins)][amount] < 10001 else 0\n",
    "    \n",
    "\n",
    "                \n",
    "# 아래는 수정하지 마시오.\n",
    "print(change_coins2(3, [1,2]))\n",
    "print(change_coins2(5, [1,2,5]))\n",
    "print(change_coins2(7, [1,2,5]))"
   ]
  },
  {
   "cell_type": "code",
   "execution_count": null,
   "metadata": {},
   "outputs": [],
   "source": []
  }
 ],
 "metadata": {
  "kernelspec": {
   "display_name": "Python 3",
   "language": "python",
   "name": "python3"
  },
  "language_info": {
   "codemirror_mode": {
    "name": "ipython",
    "version": 3
   },
   "file_extension": ".py",
   "mimetype": "text/x-python",
   "name": "python",
   "nbconvert_exporter": "python",
   "pygments_lexer": "ipython3",
   "version": "3.7.3"
  },
  "toc": {
   "base_numbering": 1,
   "nav_menu": {},
   "number_sections": true,
   "sideBar": true,
   "skip_h1_title": false,
   "title_cell": "Table of Contents",
   "title_sidebar": "Contents",
   "toc_cell": false,
   "toc_position": {},
   "toc_section_display": true,
   "toc_window_display": false
  },
  "varInspector": {
   "cols": {
    "lenName": 16,
    "lenType": 16,
    "lenVar": 40
   },
   "kernels_config": {
    "python": {
     "delete_cmd_postfix": "",
     "delete_cmd_prefix": "del ",
     "library": "var_list.py",
     "varRefreshCmd": "print(var_dic_list())"
    },
    "r": {
     "delete_cmd_postfix": ") ",
     "delete_cmd_prefix": "rm(",
     "library": "var_list.r",
     "varRefreshCmd": "cat(var_dic_list()) "
    }
   },
   "types_to_exclude": [
    "module",
    "function",
    "builtin_function_or_method",
    "instance",
    "_Feature"
   ],
   "window_display": false
  }
 },
 "nbformat": 4,
 "nbformat_minor": 2
}
